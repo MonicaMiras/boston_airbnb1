{
 "cells": [
  {
   "cell_type": "code",
   "execution_count": 3,
   "id": "b3c8d187-61b9-44a5-a1ef-f4bf99d2aea2",
   "metadata": {},
   "outputs": [],
   "source": [
    "import numpy as np\n",
    "import pandas as pd\n",
    "import matplotlib.pyplot as plt\n",
    "from sklearn.linear_model import LinearRegression\n",
    "from sklearn.model_selection import train_test_split\n",
    "from sklearn.metrics import r2_score, mean_squared_error\n",
    "#import AllTogether as t\n",
    "import seaborn as sns\n",
    "%matplotlib inline"
   ]
  },
  {
   "cell_type": "code",
   "execution_count": 19,
   "id": "809058f9-c278-4ffe-990a-a3bc9106f10b",
   "metadata": {},
   "outputs": [
    {
     "data": {
      "text/html": [
       "<div>\n",
       "<style scoped>\n",
       "    .dataframe tbody tr th:only-of-type {\n",
       "        vertical-align: middle;\n",
       "    }\n",
       "\n",
       "    .dataframe tbody tr th {\n",
       "        vertical-align: top;\n",
       "    }\n",
       "\n",
       "    .dataframe thead th {\n",
       "        text-align: right;\n",
       "    }\n",
       "</style>\n",
       "<table border=\"1\" class=\"dataframe\">\n",
       "  <thead>\n",
       "    <tr style=\"text-align: right;\">\n",
       "      <th></th>\n",
       "      <th>listing_id</th>\n",
       "      <th>date</th>\n",
       "      <th>available</th>\n",
       "      <th>price</th>\n",
       "    </tr>\n",
       "  </thead>\n",
       "  <tbody>\n",
       "    <tr>\n",
       "      <th>0</th>\n",
       "      <td>12147973</td>\n",
       "      <td>2017-09-05</td>\n",
       "      <td>f</td>\n",
       "      <td>NaN</td>\n",
       "    </tr>\n",
       "    <tr>\n",
       "      <th>1</th>\n",
       "      <td>12147973</td>\n",
       "      <td>2017-09-04</td>\n",
       "      <td>f</td>\n",
       "      <td>NaN</td>\n",
       "    </tr>\n",
       "    <tr>\n",
       "      <th>2</th>\n",
       "      <td>12147973</td>\n",
       "      <td>2017-09-03</td>\n",
       "      <td>f</td>\n",
       "      <td>NaN</td>\n",
       "    </tr>\n",
       "    <tr>\n",
       "      <th>3</th>\n",
       "      <td>12147973</td>\n",
       "      <td>2017-09-02</td>\n",
       "      <td>f</td>\n",
       "      <td>NaN</td>\n",
       "    </tr>\n",
       "    <tr>\n",
       "      <th>4</th>\n",
       "      <td>12147973</td>\n",
       "      <td>2017-09-01</td>\n",
       "      <td>f</td>\n",
       "      <td>NaN</td>\n",
       "    </tr>\n",
       "  </tbody>\n",
       "</table>\n",
       "</div>"
      ],
      "text/plain": [
       "   listing_id        date available price\n",
       "0    12147973  2017-09-05         f   NaN\n",
       "1    12147973  2017-09-04         f   NaN\n",
       "2    12147973  2017-09-03         f   NaN\n",
       "3    12147973  2017-09-02         f   NaN\n",
       "4    12147973  2017-09-01         f   NaN"
      ]
     },
     "execution_count": 19,
     "metadata": {},
     "output_type": "execute_result"
    }
   ],
   "source": [
    "df = pd.read_csv('./Downloads/proyect_udacity/calendar.csv')\n",
    "df.head()"
   ]
  },
  {
   "cell_type": "markdown",
   "id": "2b96e6b4-6584-4438-9886-2f3dcb30b9d8",
   "metadata": {},
   "source": [
    "### Pregunta: Cuales son las epocas mas ocupadas del año para visitar boston? En cuanto aumentan los precios?"
   ]
  },
  {
   "cell_type": "code",
   "execution_count": 9,
   "id": "0d672bf9-6418-4325-8c63-089da2287f25",
   "metadata": {},
   "outputs": [
    {
     "data": {
      "text/plain": [
       "(1308890, 4)"
      ]
     },
     "execution_count": 9,
     "metadata": {},
     "output_type": "execute_result"
    }
   ],
   "source": [
    "df.shape"
   ]
  },
  {
   "cell_type": "code",
   "execution_count": 23,
   "id": "3f7bf08e-c0f2-4376-8978-43e1c0c3f18b",
   "metadata": {},
   "outputs": [
    {
     "data": {
      "text/plain": [
       "listing_id         0\n",
       "date               0\n",
       "available          0\n",
       "price         665853\n",
       "dtype: int64"
      ]
     },
     "execution_count": 23,
     "metadata": {},
     "output_type": "execute_result"
    }
   ],
   "source": [
    "df.isnull().sum()"
   ]
  },
  {
   "cell_type": "code",
   "execution_count": 25,
   "id": "d1659c9e-9bc9-46d5-a4f5-076f2405fc5f",
   "metadata": {},
   "outputs": [
    {
     "data": {
      "text/plain": [
       "listing_id     int64\n",
       "date          object\n",
       "available     object\n",
       "price         object\n",
       "dtype: object"
      ]
     },
     "execution_count": 25,
     "metadata": {},
     "output_type": "execute_result"
    }
   ],
   "source": [
    "df.dtypes"
   ]
  },
  {
   "cell_type": "markdown",
   "id": "9503a4d7-1763-4e50-87fa-ad724cb98aa9",
   "metadata": {},
   "source": [
    "### Limpieza de Signos en la Columna Price y transformación a tipo numerico"
   ]
  },
  {
   "cell_type": "code",
   "execution_count": 46,
   "id": "44110093-fc4d-40fe-bd64-ffe60dab3483",
   "metadata": {},
   "outputs": [],
   "source": [
    "df.price = df.price.replace('[$,]', '', regex=True).astype(float)"
   ]
  },
  {
   "cell_type": "code",
   "execution_count": 52,
   "id": "84a990df-4656-4101-a807-fd066f18ea80",
   "metadata": {},
   "outputs": [
    {
     "data": {
      "text/plain": [
       "listing_id      int64\n",
       "date           object\n",
       "available      object\n",
       "price         float64\n",
       "dtype: object"
      ]
     },
     "execution_count": 52,
     "metadata": {},
     "output_type": "execute_result"
    }
   ],
   "source": [
    "df.dtypes"
   ]
  },
  {
   "cell_type": "code",
   "execution_count": 54,
   "id": "90ea9105-df0f-4e11-92d4-84674f9e9fe8",
   "metadata": {},
   "outputs": [
    {
     "data": {
      "text/html": [
       "<div>\n",
       "<style scoped>\n",
       "    .dataframe tbody tr th:only-of-type {\n",
       "        vertical-align: middle;\n",
       "    }\n",
       "\n",
       "    .dataframe tbody tr th {\n",
       "        vertical-align: top;\n",
       "    }\n",
       "\n",
       "    .dataframe thead th {\n",
       "        text-align: right;\n",
       "    }\n",
       "</style>\n",
       "<table border=\"1\" class=\"dataframe\">\n",
       "  <thead>\n",
       "    <tr style=\"text-align: right;\">\n",
       "      <th></th>\n",
       "      <th>listing_id</th>\n",
       "      <th>date</th>\n",
       "      <th>available</th>\n",
       "      <th>price</th>\n",
       "    </tr>\n",
       "  </thead>\n",
       "  <tbody>\n",
       "    <tr>\n",
       "      <th>0</th>\n",
       "      <td>12147973</td>\n",
       "      <td>2017-09-05</td>\n",
       "      <td>f</td>\n",
       "      <td>NaN</td>\n",
       "    </tr>\n",
       "    <tr>\n",
       "      <th>1</th>\n",
       "      <td>12147973</td>\n",
       "      <td>2017-09-04</td>\n",
       "      <td>f</td>\n",
       "      <td>NaN</td>\n",
       "    </tr>\n",
       "    <tr>\n",
       "      <th>2</th>\n",
       "      <td>12147973</td>\n",
       "      <td>2017-09-03</td>\n",
       "      <td>f</td>\n",
       "      <td>NaN</td>\n",
       "    </tr>\n",
       "    <tr>\n",
       "      <th>3</th>\n",
       "      <td>12147973</td>\n",
       "      <td>2017-09-02</td>\n",
       "      <td>f</td>\n",
       "      <td>NaN</td>\n",
       "    </tr>\n",
       "    <tr>\n",
       "      <th>4</th>\n",
       "      <td>12147973</td>\n",
       "      <td>2017-09-01</td>\n",
       "      <td>f</td>\n",
       "      <td>NaN</td>\n",
       "    </tr>\n",
       "  </tbody>\n",
       "</table>\n",
       "</div>"
      ],
      "text/plain": [
       "   listing_id        date available  price\n",
       "0    12147973  2017-09-05         f    NaN\n",
       "1    12147973  2017-09-04         f    NaN\n",
       "2    12147973  2017-09-03         f    NaN\n",
       "3    12147973  2017-09-02         f    NaN\n",
       "4    12147973  2017-09-01         f    NaN"
      ]
     },
     "execution_count": 54,
     "metadata": {},
     "output_type": "execute_result"
    }
   ],
   "source": [
    "df.head()"
   ]
  },
  {
   "cell_type": "markdown",
   "id": "3cb4c45c-7251-4972-b4db-120cdbb1d553",
   "metadata": {},
   "source": [
    "#### Transformacionales de columna Data en datatime"
   ]
  },
  {
   "cell_type": "code",
   "execution_count": 57,
   "id": "9e5d056d-5e30-4709-8a2e-2bc9bb21df0e",
   "metadata": {},
   "outputs": [],
   "source": [
    "df['date'] = pd.to_datetime(df['date'])"
   ]
  },
  {
   "cell_type": "code",
   "execution_count": 63,
   "id": "0625d7bc-d26d-4824-8289-077951b06a88",
   "metadata": {},
   "outputs": [
    {
     "data": {
      "text/plain": [
       "listing_id             int64\n",
       "date          datetime64[ns]\n",
       "available             object\n",
       "price                float64\n",
       "dtype: object"
      ]
     },
     "execution_count": 63,
     "metadata": {},
     "output_type": "execute_result"
    }
   ],
   "source": [
    "df.dtypes"
   ]
  },
  {
   "cell_type": "code",
   "execution_count": null,
   "id": "87dc559c-c59b-4f28-91fb-ba5b9b6820da",
   "metadata": {},
   "outputs": [],
   "source": []
  },
  {
   "cell_type": "markdown",
   "id": "170bef91-08e5-4d41-8cb1-04d549f41e03",
   "metadata": {},
   "source": [
    "#### Formato manejable de available"
   ]
  },
  {
   "cell_type": "code",
   "execution_count": 80,
   "id": "6f6e16b9-9a99-4a45-bf11-c92f74a57b94",
   "metadata": {},
   "outputs": [
    {
     "data": {
      "text/plain": [
       "array(['f', 't'], dtype=object)"
      ]
     },
     "execution_count": 80,
     "metadata": {},
     "output_type": "execute_result"
    }
   ],
   "source": [
    "df.available.unique()"
   ]
  },
  {
   "cell_type": "code",
   "execution_count": 82,
   "id": "3d7b9d4b-e82d-48d7-a19a-9af748af0e73",
   "metadata": {},
   "outputs": [],
   "source": [
    "df['available'] = df['available'].apply(lambda x: 1 if x == 't' else 0)"
   ]
  },
  {
   "cell_type": "code",
   "execution_count": 84,
   "id": "8c49dffc-20f0-4af9-aa6b-a61ac8dbb3c1",
   "metadata": {},
   "outputs": [
    {
     "data": {
      "text/html": [
       "<div>\n",
       "<style scoped>\n",
       "    .dataframe tbody tr th:only-of-type {\n",
       "        vertical-align: middle;\n",
       "    }\n",
       "\n",
       "    .dataframe tbody tr th {\n",
       "        vertical-align: top;\n",
       "    }\n",
       "\n",
       "    .dataframe thead th {\n",
       "        text-align: right;\n",
       "    }\n",
       "</style>\n",
       "<table border=\"1\" class=\"dataframe\">\n",
       "  <thead>\n",
       "    <tr style=\"text-align: right;\">\n",
       "      <th></th>\n",
       "      <th>listing_id</th>\n",
       "      <th>date</th>\n",
       "      <th>available</th>\n",
       "      <th>price</th>\n",
       "    </tr>\n",
       "  </thead>\n",
       "  <tbody>\n",
       "    <tr>\n",
       "      <th>0</th>\n",
       "      <td>12147973</td>\n",
       "      <td>2017-09-05</td>\n",
       "      <td>0</td>\n",
       "      <td>NaN</td>\n",
       "    </tr>\n",
       "    <tr>\n",
       "      <th>1</th>\n",
       "      <td>12147973</td>\n",
       "      <td>2017-09-04</td>\n",
       "      <td>0</td>\n",
       "      <td>NaN</td>\n",
       "    </tr>\n",
       "    <tr>\n",
       "      <th>2</th>\n",
       "      <td>12147973</td>\n",
       "      <td>2017-09-03</td>\n",
       "      <td>0</td>\n",
       "      <td>NaN</td>\n",
       "    </tr>\n",
       "    <tr>\n",
       "      <th>3</th>\n",
       "      <td>12147973</td>\n",
       "      <td>2017-09-02</td>\n",
       "      <td>0</td>\n",
       "      <td>NaN</td>\n",
       "    </tr>\n",
       "    <tr>\n",
       "      <th>4</th>\n",
       "      <td>12147973</td>\n",
       "      <td>2017-09-01</td>\n",
       "      <td>0</td>\n",
       "      <td>NaN</td>\n",
       "    </tr>\n",
       "  </tbody>\n",
       "</table>\n",
       "</div>"
      ],
      "text/plain": [
       "   listing_id       date  available  price\n",
       "0    12147973 2017-09-05          0    NaN\n",
       "1    12147973 2017-09-04          0    NaN\n",
       "2    12147973 2017-09-03          0    NaN\n",
       "3    12147973 2017-09-02          0    NaN\n",
       "4    12147973 2017-09-01          0    NaN"
      ]
     },
     "execution_count": 84,
     "metadata": {},
     "output_type": "execute_result"
    }
   ],
   "source": [
    "df.head()"
   ]
  },
  {
   "cell_type": "markdown",
   "id": "49bf4ce3-e40b-48fa-ba0d-becb55ae2267",
   "metadata": {},
   "source": [
    "#### Crear una columna para identificar la temporada:"
   ]
  },
  {
   "cell_type": "code",
   "execution_count": 87,
   "id": "170f3794-c19d-4c2e-88f5-19c532670b6b",
   "metadata": {},
   "outputs": [],
   "source": [
    "def get_season(month):\n",
    "    if month in [12, 1, 2]:\n",
    "        return 'Winter'\n",
    "    elif month in [3, 4, 5]:\n",
    "        return 'Spring'\n",
    "    elif month in [6, 7, 8]:\n",
    "        return 'Summer'\n",
    "    elif month in [9, 10, 11]:\n",
    "        return 'Fall'"
   ]
  },
  {
   "cell_type": "code",
   "execution_count": 89,
   "id": "ade66bcc-1811-4572-82ea-235904080861",
   "metadata": {},
   "outputs": [],
   "source": [
    "df['season'] = df['date'].dt.month.apply(get_season)"
   ]
  },
  {
   "cell_type": "code",
   "execution_count": 93,
   "id": "0a9070b2-e3ce-450f-85e2-9f6b7f5a5c94",
   "metadata": {},
   "outputs": [
    {
     "data": {
      "text/html": [
       "<div>\n",
       "<style scoped>\n",
       "    .dataframe tbody tr th:only-of-type {\n",
       "        vertical-align: middle;\n",
       "    }\n",
       "\n",
       "    .dataframe tbody tr th {\n",
       "        vertical-align: top;\n",
       "    }\n",
       "\n",
       "    .dataframe thead th {\n",
       "        text-align: right;\n",
       "    }\n",
       "</style>\n",
       "<table border=\"1\" class=\"dataframe\">\n",
       "  <thead>\n",
       "    <tr style=\"text-align: right;\">\n",
       "      <th></th>\n",
       "      <th>listing_id</th>\n",
       "      <th>date</th>\n",
       "      <th>available</th>\n",
       "      <th>price</th>\n",
       "      <th>season</th>\n",
       "    </tr>\n",
       "  </thead>\n",
       "  <tbody>\n",
       "    <tr>\n",
       "      <th>0</th>\n",
       "      <td>12147973</td>\n",
       "      <td>2017-09-05</td>\n",
       "      <td>0</td>\n",
       "      <td>NaN</td>\n",
       "      <td>Fall</td>\n",
       "    </tr>\n",
       "    <tr>\n",
       "      <th>1</th>\n",
       "      <td>12147973</td>\n",
       "      <td>2017-09-04</td>\n",
       "      <td>0</td>\n",
       "      <td>NaN</td>\n",
       "      <td>Fall</td>\n",
       "    </tr>\n",
       "    <tr>\n",
       "      <th>2</th>\n",
       "      <td>12147973</td>\n",
       "      <td>2017-09-03</td>\n",
       "      <td>0</td>\n",
       "      <td>NaN</td>\n",
       "      <td>Fall</td>\n",
       "    </tr>\n",
       "    <tr>\n",
       "      <th>3</th>\n",
       "      <td>12147973</td>\n",
       "      <td>2017-09-02</td>\n",
       "      <td>0</td>\n",
       "      <td>NaN</td>\n",
       "      <td>Fall</td>\n",
       "    </tr>\n",
       "    <tr>\n",
       "      <th>4</th>\n",
       "      <td>12147973</td>\n",
       "      <td>2017-09-01</td>\n",
       "      <td>0</td>\n",
       "      <td>NaN</td>\n",
       "      <td>Fall</td>\n",
       "    </tr>\n",
       "  </tbody>\n",
       "</table>\n",
       "</div>"
      ],
      "text/plain": [
       "   listing_id       date  available  price season\n",
       "0    12147973 2017-09-05          0    NaN   Fall\n",
       "1    12147973 2017-09-04          0    NaN   Fall\n",
       "2    12147973 2017-09-03          0    NaN   Fall\n",
       "3    12147973 2017-09-02          0    NaN   Fall\n",
       "4    12147973 2017-09-01          0    NaN   Fall"
      ]
     },
     "execution_count": 93,
     "metadata": {},
     "output_type": "execute_result"
    }
   ],
   "source": [
    "df.head()"
   ]
  },
  {
   "cell_type": "markdown",
   "id": "c9fbd0f0-0574-4e42-8a89-a84a17e956da",
   "metadata": {},
   "source": [
    "##### Las temporadas mas ocupadas con la columna available "
   ]
  },
  {
   "cell_type": "code",
   "execution_count": 95,
   "id": "35c809e4-fff9-4add-b0cd-15d953a222a6",
   "metadata": {},
   "outputs": [
    {
     "name": "stdout",
     "output_type": "stream",
     "text": [
      "season\n",
      "Winter    0.560786\n",
      "Summer    0.494844\n",
      "Spring    0.485472\n",
      "Fall      0.424824\n",
      "Name: available, dtype: float64\n"
     ]
    }
   ],
   "source": [
    "# Tasa de ocupacion por temporada\n",
    "season_occupancy = df.groupby('season')['available'].mean().sort_values(ascending=False)\n",
    "print(season_occupancy)"
   ]
  },
  {
   "cell_type": "markdown",
   "id": "041a8e26-1a35-4fdb-a759-403f071f07b5",
   "metadata": {},
   "source": [
    "##### Rellenar valores nulos con los precios de la misma fecha"
   ]
  },
  {
   "cell_type": "code",
   "execution_count": 98,
   "id": "e320ccbd-c493-4b79-a4b1-292dddec6de4",
   "metadata": {},
   "outputs": [],
   "source": [
    "price_by_date = df.groupby('date')['price'].mean()"
   ]
  },
  {
   "cell_type": "code",
   "execution_count": 102,
   "id": "415b364c-2922-4f1c-93da-7762ee0181f3",
   "metadata": {},
   "outputs": [],
   "source": [
    "df['price'] = df.apply(\n",
    "    lambda row: price_by_date[row['date']] if pd.isnull(row['price']) else row['price'], axis=1)\n"
   ]
  },
  {
   "cell_type": "code",
   "execution_count": 108,
   "id": "ead1d18a-74fa-4f8e-aaf6-627bde830c13",
   "metadata": {},
   "outputs": [
    {
     "data": {
      "text/html": [
       "<div>\n",
       "<style scoped>\n",
       "    .dataframe tbody tr th:only-of-type {\n",
       "        vertical-align: middle;\n",
       "    }\n",
       "\n",
       "    .dataframe tbody tr th {\n",
       "        vertical-align: top;\n",
       "    }\n",
       "\n",
       "    .dataframe thead th {\n",
       "        text-align: right;\n",
       "    }\n",
       "</style>\n",
       "<table border=\"1\" class=\"dataframe\">\n",
       "  <thead>\n",
       "    <tr style=\"text-align: right;\">\n",
       "      <th></th>\n",
       "      <th>listing_id</th>\n",
       "      <th>date</th>\n",
       "      <th>available</th>\n",
       "      <th>price</th>\n",
       "      <th>season</th>\n",
       "    </tr>\n",
       "  </thead>\n",
       "  <tbody>\n",
       "    <tr>\n",
       "      <th>0</th>\n",
       "      <td>12147973</td>\n",
       "      <td>2017-09-05</td>\n",
       "      <td>0</td>\n",
       "      <td>190.804553</td>\n",
       "      <td>Fall</td>\n",
       "    </tr>\n",
       "    <tr>\n",
       "      <th>1</th>\n",
       "      <td>12147973</td>\n",
       "      <td>2017-09-04</td>\n",
       "      <td>0</td>\n",
       "      <td>189.907829</td>\n",
       "      <td>Fall</td>\n",
       "    </tr>\n",
       "    <tr>\n",
       "      <th>2</th>\n",
       "      <td>12147973</td>\n",
       "      <td>2017-09-03</td>\n",
       "      <td>0</td>\n",
       "      <td>192.566038</td>\n",
       "      <td>Fall</td>\n",
       "    </tr>\n",
       "    <tr>\n",
       "      <th>3</th>\n",
       "      <td>12147973</td>\n",
       "      <td>2017-09-02</td>\n",
       "      <td>0</td>\n",
       "      <td>197.997775</td>\n",
       "      <td>Fall</td>\n",
       "    </tr>\n",
       "    <tr>\n",
       "      <th>4</th>\n",
       "      <td>12147973</td>\n",
       "      <td>2017-09-01</td>\n",
       "      <td>0</td>\n",
       "      <td>202.046797</td>\n",
       "      <td>Fall</td>\n",
       "    </tr>\n",
       "  </tbody>\n",
       "</table>\n",
       "</div>"
      ],
      "text/plain": [
       "   listing_id       date  available       price season\n",
       "0    12147973 2017-09-05          0  190.804553   Fall\n",
       "1    12147973 2017-09-04          0  189.907829   Fall\n",
       "2    12147973 2017-09-03          0  192.566038   Fall\n",
       "3    12147973 2017-09-02          0  197.997775   Fall\n",
       "4    12147973 2017-09-01          0  202.046797   Fall"
      ]
     },
     "execution_count": 108,
     "metadata": {},
     "output_type": "execute_result"
    }
   ],
   "source": [
    "df.head()"
   ]
  },
  {
   "cell_type": "code",
   "execution_count": 116,
   "id": "c15d9ba4-8a80-4aa2-91ba-ecd18217a8a0",
   "metadata": {},
   "outputs": [
    {
     "data": {
      "image/png": "[encoded data removed]",
      "text/plain": [
       "<Figure size 800x500 with 1 Axes>"
      ]
     },
     "metadata": {},
     "output_type": "display_data"
    }
   ],
   "source": [
    "# Graficar tasa de ocupación por temporada\n",
    "plt.figure(figsize=(8, 5))\n",
    "season_occupancy.plot(kind='bar', color='skyblue')\n",
    "plt.title('Occupancy Rate by Season in Boston')\n",
    "plt.xlabel('Season')\n",
    "plt.ylabel('Occupancy Rate')\n",
    "plt.ylim(0, 1)  # La ocupación está en proporciones entre 0 y 1\n",
    "plt.show()"
   ]
  },
  {
   "cell_type": "code",
   "execution_count": null,
   "id": "aaa014b8-cf3d-45db-925b-fdea24e3eb69",
   "metadata": {},
   "outputs": [],
   "source": []
  },
  {
   "cell_type": "code",
   "execution_count": null,
   "id": "e238db5f-ca4f-4019-9e45-ada8bb560e5c",
   "metadata": {},
   "outputs": [],
   "source": []
  },
  {
   "cell_type": "code",
   "execution_count": null,
   "id": "b9dfa1e3-35cc-40c5-8f17-7b619f301a77",
   "metadata": {},
   "outputs": [],
   "source": []
  },
  {
   "cell_type": "code",
   "execution_count": null,
   "id": "ba6320bd-6988-4d8c-b5f9-04091f220763",
   "metadata": {},
   "outputs": [],
   "source": []
  },
  {
   "cell_type": "markdown",
   "id": "5ee9fcd1-5c2f-49cf-9b38-fbe32960e758",
   "metadata": {},
   "source": [
    "#### Precio agrupado por temporada"
   ]
  },
  {
   "cell_type": "code",
   "execution_count": 120,
   "id": "73eae37f-b346-4a85-a66d-aff4121e546a",
   "metadata": {},
   "outputs": [],
   "source": [
    "# Agrupar los datos por temporada y calcular la media de los precios\n",
    "seasonal_avg_prices = df.groupby('season')['price'].mean().sort_values(ascending=False)"
   ]
  },
  {
   "cell_type": "code",
   "execution_count": null,
   "id": "2c8f3a41-3a12-4b52-8139-ea009b12a3cd",
   "metadata": {},
   "outputs": [],
   "source": []
  },
  {
   "cell_type": "code",
   "execution_count": null,
   "id": "3ce3c991-d55f-4a70-b487-d5eaa5527085",
   "metadata": {},
   "outputs": [],
   "source": []
  },
  {
   "cell_type": "code",
   "execution_count": 122,
   "id": "a7bf5610-4cb7-4442-9980-b8d6d744777c",
   "metadata": {},
   "outputs": [
    {
     "name": "stderr",
     "output_type": "stream",
     "text": [
      "/var/folders/m_/06pskt392pn6qvkq92krm8xm0000gn/T/ipykernel_28982/2713149026.py:3: FutureWarning: \n",
      "\n",
      "Passing `palette` without assigning `hue` is deprecated and will be removed in v0.14.0. Assign the `x` variable to `hue` and set `legend=False` for the same effect.\n",
      "\n",
      "  sns.barplot(x=seasonal_avg_prices.index, y=seasonal_avg_prices.values, palette='viridis')\n"
     ]
    },
    {
     "data": {
      "image/png": "[encoded data removed]",
      "text/plain": [
       "<Figure size 800x600 with 1 Axes>"
      ]
     },
     "metadata": {},
     "output_type": "display_data"
    }
   ],
   "source": [
    "# Graficar los precios promedio por temporada\n",
    "plt.figure(figsize=(8, 6))\n",
    "sns.barplot(x=seasonal_avg_prices.index, y=seasonal_avg_prices.values, palette='viridis')\n",
    "plt.title('Precio Promedio por Temporada en Boston')\n",
    "plt.xlabel('Temporada')\n",
    "plt.ylabel('Precio Promedio ($)')\n",
    "plt.show()"
   ]
  },
  {
   "cell_type": "code",
   "execution_count": 126,
   "id": "c61a79c9-b961-47cc-919e-a0f854ebd5ad",
   "metadata": {},
   "outputs": [
    {
     "name": "stdout",
     "output_type": "stream",
     "text": [
      "Los precios aumentan un 22.38% de la temporada más baja a la más alta.\n"
     ]
    }
   ],
   "source": [
    "# Identificar el precio más alto y más bajo\n",
    "max_price = seasonal_avg_prices.max()\n",
    "min_price = seasonal_avg_prices.min()\n",
    "\n",
    "# Incremento porcentual\n",
    "price_increase = ((max_price - min_price) / min_price) * 100\n",
    "\n",
    "print(f\"Los precios aumentan un {price_increase:.2f}% de la temporada más baja a la más alta.\")"
   ]
  },
  {
   "cell_type": "code",
   "execution_count": 135,
   "id": "f6339933-fc53-45c1-8722-69a4d08acc57",
   "metadata": {},
   "outputs": [],
   "source": [
    "df.to_csv('boston_airbnb_seasonal_prices.csv', index=False)"
   ]
  },
  {
   "cell_type": "code",
   "execution_count": null,
   "id": "5f648d2c-d5cf-4dc9-8a87-8a21bb6867fe",
   "metadata": {},
   "outputs": [],
   "source": []
  }
 ],
 "metadata": {
  "kernelspec": {
   "display_name": "Python 3 (ipykernel)",
   "language": "python",
   "name": "python3"
  },
  "language_info": {
   "codemirror_mode": {
    "name": "ipython",
    "version": 3
   },
   "file_extension": ".py",
   "mimetype": "text/x-python",
   "name": "python",
   "nbconvert_exporter": "python",
   "pygments_lexer": "ipython3",
   "version": "3.11.0"
  }
 },
 "nbformat": 4,
 "nbformat_minor": 5
}
