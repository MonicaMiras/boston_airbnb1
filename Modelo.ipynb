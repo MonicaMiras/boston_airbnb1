{
 "cells": [
  {
   "cell_type": "code",
   "execution_count": 306,
   "id": "89a3cd5f-2007-4a7d-99c4-ba2435d828e7",
   "metadata": {},
   "outputs": [],
   "source": [
    "import numpy as np\n",
    "import pandas as pd\n",
    "import matplotlib.pyplot as plt\n",
    "from sklearn.linear_model import LinearRegression\n",
    "from sklearn.model_selection import train_test_split\n",
    "from sklearn.metrics import r2_score, mean_squared_error\n",
    "#import AllTogether as t\n",
    "import seaborn as sns\n",
    "%matplotlib inline\n",
    "from sklearn.ensemble import RandomForestClassifier\n",
    "from sklearn.metrics import accuracy_score\n",
    "from sklearn.metrics import classification_report\n",
    "from sklearn.ensemble import RandomForestRegressor"
   ]
  },
  {
   "cell_type": "code",
   "execution_count": 308,
   "id": "852a6b68-d880-4eae-b1af-1b291c841ef4",
   "metadata": {},
   "outputs": [],
   "source": [
    "calendar = pd.read_csv('calendar_clean.csv')"
   ]
  },
  {
   "cell_type": "code",
   "execution_count": 309,
   "id": "81645d0e-6c34-4057-aa21-94a823c62488",
   "metadata": {},
   "outputs": [],
   "source": [
    "listings = pd.read_csv('listings_clean.csv')"
   ]
  },
  {
   "cell_type": "code",
   "execution_count": 312,
   "id": "4be686ca-7d39-4bf0-90cf-b4248e53b517",
   "metadata": {},
   "outputs": [
    {
     "name": "stdout",
     "output_type": "stream",
     "text": [
      "Index(['listing_id', 'date', 'available', 'price', 'season', 'occupied'], dtype='object')\n",
      "Index(['id', 'host_is_superhost', 'neighbourhood_cleansed', 'property_type',\n",
      "       'room_type', 'accommodates', 'bathrooms', 'bedrooms', 'beds',\n",
      "       'bed_type', 'amenities', 'price', 'guests_included', 'extra_people',\n",
      "       'minimum_nights', 'availability_365', 'number_of_reviews',\n",
      "       'review_scores_rating', 'reviews_per_month'],\n",
      "      dtype='object')\n"
     ]
    }
   ],
   "source": [
    "print(calendar.columns)\n",
    "print(listings.columns)"
   ]
  },
  {
   "cell_type": "code",
   "execution_count": 314,
   "id": "319c08d3-04a7-4c6f-b4c5-24b7f4dfcdbe",
   "metadata": {},
   "outputs": [],
   "source": [
    "listings.rename(columns={'id': 'listing_id'}, inplace=True)"
   ]
  },
  {
   "cell_type": "code",
   "execution_count": 316,
   "id": "413068ef-f90b-471b-8acf-f46b0b5ff501",
   "metadata": {
    "scrolled": true
   },
   "outputs": [
    {
     "name": "stdout",
     "output_type": "stream",
     "text": [
      "1305305\n",
      "0\n"
     ]
    }
   ],
   "source": [
    "# Revisar duplicados\n",
    "print(calendar['listing_id'].duplicated().sum())\n",
    "print(listings['listing_id'].duplicated().sum())"
   ]
  },
  {
   "cell_type": "code",
   "execution_count": 318,
   "id": "ce88eed1-5dc4-46cb-b2b0-d6e9c20db398",
   "metadata": {},
   "outputs": [],
   "source": [
    "calendar_cleaned = calendar.drop_duplicates(subset=['listing_id', 'date'])"
   ]
  },
  {
   "cell_type": "code",
   "execution_count": 320,
   "id": "8e325f8a-81c5-4811-8a6f-dd2ef7604491",
   "metadata": {},
   "outputs": [
    {
     "data": {
      "text/html": [
       "<div>\n",
       "<style scoped>\n",
       "    .dataframe tbody tr th:only-of-type {\n",
       "        vertical-align: middle;\n",
       "    }\n",
       "\n",
       "    .dataframe tbody tr th {\n",
       "        vertical-align: top;\n",
       "    }\n",
       "\n",
       "    .dataframe thead th {\n",
       "        text-align: right;\n",
       "    }\n",
       "</style>\n",
       "<table border=\"1\" class=\"dataframe\">\n",
       "  <thead>\n",
       "    <tr style=\"text-align: right;\">\n",
       "      <th></th>\n",
       "      <th>listing_id</th>\n",
       "      <th>date</th>\n",
       "      <th>available</th>\n",
       "      <th>price_x</th>\n",
       "      <th>season</th>\n",
       "      <th>occupied</th>\n",
       "      <th>host_is_superhost</th>\n",
       "      <th>neighbourhood_cleansed</th>\n",
       "      <th>property_type</th>\n",
       "      <th>room_type</th>\n",
       "      <th>...</th>\n",
       "      <th>bed_type</th>\n",
       "      <th>amenities</th>\n",
       "      <th>price_y</th>\n",
       "      <th>guests_included</th>\n",
       "      <th>extra_people</th>\n",
       "      <th>minimum_nights</th>\n",
       "      <th>availability_365</th>\n",
       "      <th>number_of_reviews</th>\n",
       "      <th>review_scores_rating</th>\n",
       "      <th>reviews_per_month</th>\n",
       "    </tr>\n",
       "  </thead>\n",
       "  <tbody>\n",
       "    <tr>\n",
       "      <th>0</th>\n",
       "      <td>12147973</td>\n",
       "      <td>2017-09-05</td>\n",
       "      <td>0</td>\n",
       "      <td>190.804553</td>\n",
       "      <td>Fall</td>\n",
       "      <td>0</td>\n",
       "      <td>f</td>\n",
       "      <td>Roslindale</td>\n",
       "      <td>House</td>\n",
       "      <td>Entire home/apt</td>\n",
       "      <td>...</td>\n",
       "      <td>Real Bed</td>\n",
       "      <td>{TV,\"Wireless Internet\",Kitchen,\"Free Parking ...</td>\n",
       "      <td>250.0</td>\n",
       "      <td>1</td>\n",
       "      <td>0.0</td>\n",
       "      <td>2</td>\n",
       "      <td>0</td>\n",
       "      <td>0</td>\n",
       "      <td>94.0</td>\n",
       "      <td>1.05</td>\n",
       "    </tr>\n",
       "    <tr>\n",
       "      <th>1</th>\n",
       "      <td>12147973</td>\n",
       "      <td>2017-09-04</td>\n",
       "      <td>0</td>\n",
       "      <td>189.907829</td>\n",
       "      <td>Fall</td>\n",
       "      <td>0</td>\n",
       "      <td>f</td>\n",
       "      <td>Roslindale</td>\n",
       "      <td>House</td>\n",
       "      <td>Entire home/apt</td>\n",
       "      <td>...</td>\n",
       "      <td>Real Bed</td>\n",
       "      <td>{TV,\"Wireless Internet\",Kitchen,\"Free Parking ...</td>\n",
       "      <td>250.0</td>\n",
       "      <td>1</td>\n",
       "      <td>0.0</td>\n",
       "      <td>2</td>\n",
       "      <td>0</td>\n",
       "      <td>0</td>\n",
       "      <td>94.0</td>\n",
       "      <td>1.05</td>\n",
       "    </tr>\n",
       "    <tr>\n",
       "      <th>2</th>\n",
       "      <td>12147973</td>\n",
       "      <td>2017-09-03</td>\n",
       "      <td>0</td>\n",
       "      <td>192.566038</td>\n",
       "      <td>Fall</td>\n",
       "      <td>0</td>\n",
       "      <td>f</td>\n",
       "      <td>Roslindale</td>\n",
       "      <td>House</td>\n",
       "      <td>Entire home/apt</td>\n",
       "      <td>...</td>\n",
       "      <td>Real Bed</td>\n",
       "      <td>{TV,\"Wireless Internet\",Kitchen,\"Free Parking ...</td>\n",
       "      <td>250.0</td>\n",
       "      <td>1</td>\n",
       "      <td>0.0</td>\n",
       "      <td>2</td>\n",
       "      <td>0</td>\n",
       "      <td>0</td>\n",
       "      <td>94.0</td>\n",
       "      <td>1.05</td>\n",
       "    </tr>\n",
       "    <tr>\n",
       "      <th>3</th>\n",
       "      <td>12147973</td>\n",
       "      <td>2017-09-02</td>\n",
       "      <td>0</td>\n",
       "      <td>197.997775</td>\n",
       "      <td>Fall</td>\n",
       "      <td>0</td>\n",
       "      <td>f</td>\n",
       "      <td>Roslindale</td>\n",
       "      <td>House</td>\n",
       "      <td>Entire home/apt</td>\n",
       "      <td>...</td>\n",
       "      <td>Real Bed</td>\n",
       "      <td>{TV,\"Wireless Internet\",Kitchen,\"Free Parking ...</td>\n",
       "      <td>250.0</td>\n",
       "      <td>1</td>\n",
       "      <td>0.0</td>\n",
       "      <td>2</td>\n",
       "      <td>0</td>\n",
       "      <td>0</td>\n",
       "      <td>94.0</td>\n",
       "      <td>1.05</td>\n",
       "    </tr>\n",
       "    <tr>\n",
       "      <th>4</th>\n",
       "      <td>12147973</td>\n",
       "      <td>2017-09-01</td>\n",
       "      <td>0</td>\n",
       "      <td>202.046797</td>\n",
       "      <td>Fall</td>\n",
       "      <td>0</td>\n",
       "      <td>f</td>\n",
       "      <td>Roslindale</td>\n",
       "      <td>House</td>\n",
       "      <td>Entire home/apt</td>\n",
       "      <td>...</td>\n",
       "      <td>Real Bed</td>\n",
       "      <td>{TV,\"Wireless Internet\",Kitchen,\"Free Parking ...</td>\n",
       "      <td>250.0</td>\n",
       "      <td>1</td>\n",
       "      <td>0.0</td>\n",
       "      <td>2</td>\n",
       "      <td>0</td>\n",
       "      <td>0</td>\n",
       "      <td>94.0</td>\n",
       "      <td>1.05</td>\n",
       "    </tr>\n",
       "  </tbody>\n",
       "</table>\n",
       "<p>5 rows × 24 columns</p>\n",
       "</div>"
      ],
      "text/plain": [
       "   listing_id        date  available     price_x season  occupied  \\\n",
       "0    12147973  2017-09-05          0  190.804553   Fall         0   \n",
       "1    12147973  2017-09-04          0  189.907829   Fall         0   \n",
       "2    12147973  2017-09-03          0  192.566038   Fall         0   \n",
       "3    12147973  2017-09-02          0  197.997775   Fall         0   \n",
       "4    12147973  2017-09-01          0  202.046797   Fall         0   \n",
       "\n",
       "  host_is_superhost neighbourhood_cleansed property_type        room_type  \\\n",
       "0                 f             Roslindale         House  Entire home/apt   \n",
       "1                 f             Roslindale         House  Entire home/apt   \n",
       "2                 f             Roslindale         House  Entire home/apt   \n",
       "3                 f             Roslindale         House  Entire home/apt   \n",
       "4                 f             Roslindale         House  Entire home/apt   \n",
       "\n",
       "   ...  bed_type                                          amenities  price_y  \\\n",
       "0  ...  Real Bed  {TV,\"Wireless Internet\",Kitchen,\"Free Parking ...    250.0   \n",
       "1  ...  Real Bed  {TV,\"Wireless Internet\",Kitchen,\"Free Parking ...    250.0   \n",
       "2  ...  Real Bed  {TV,\"Wireless Internet\",Kitchen,\"Free Parking ...    250.0   \n",
       "3  ...  Real Bed  {TV,\"Wireless Internet\",Kitchen,\"Free Parking ...    250.0   \n",
       "4  ...  Real Bed  {TV,\"Wireless Internet\",Kitchen,\"Free Parking ...    250.0   \n",
       "\n",
       "   guests_included extra_people minimum_nights  availability_365  \\\n",
       "0                1          0.0              2                 0   \n",
       "1                1          0.0              2                 0   \n",
       "2                1          0.0              2                 0   \n",
       "3                1          0.0              2                 0   \n",
       "4                1          0.0              2                 0   \n",
       "\n",
       "   number_of_reviews  review_scores_rating  reviews_per_month  \n",
       "0                  0                  94.0               1.05  \n",
       "1                  0                  94.0               1.05  \n",
       "2                  0                  94.0               1.05  \n",
       "3                  0                  94.0               1.05  \n",
       "4                  0                  94.0               1.05  \n",
       "\n",
       "[5 rows x 24 columns]"
      ]
     },
     "execution_count": 320,
     "metadata": {},
     "output_type": "execute_result"
    }
   ],
   "source": [
    "combined = calendar_cleaned.merge(listings, on='listing_id', how='inner')\n",
    "combined.head()"
   ]
  },
  {
   "cell_type": "code",
   "execution_count": 324,
   "id": "fe3827c9-2b5f-4c11-87d0-f67c07f03471",
   "metadata": {},
   "outputs": [
    {
     "name": "stdout",
     "output_type": "stream",
     "text": [
      "   season  total_occupancy  average_price  total_listings\n",
      "0    Fall                0     227.165803            3585\n",
      "1  Spring                0     190.996871            3585\n",
      "2  Summer                0     200.828003            3585\n",
      "3  Winter                0     185.615484            3585\n"
     ]
    }
   ],
   "source": [
    "seasonal_data = combined.groupby('season').agg(\n",
    "    total_occupancy=('occupied', 'sum'),\n",
    "    average_price=('price_x', 'mean'),\n",
    "    total_listings=('listing_id', 'nunique')\n",
    ").reset_index()\n",
    "\n",
    "print(seasonal_data)"
   ]
  },
  {
   "cell_type": "code",
   "execution_count": 328,
   "id": "bf800b69-d7f9-4a79-ab0b-92e7190b601e",
   "metadata": {},
   "outputs": [
    {
     "data": {
      "image/png": "[encoded data removed]",
      "text/plain": [
       "<Figure size 640x480 with 1 Axes>"
      ]
     },
     "metadata": {},
     "output_type": "display_data"
    }
   ],
   "source": [
    "# Visualizamos el cambio de precio por temporada\n",
    "sns.barplot(x='season', y='average_price', data=seasonal_data)\n",
    "plt.title('Precio promedio por temporada')\n",
    "plt.show()"
   ]
  },
  {
   "cell_type": "markdown",
   "id": "583f96a9-8c8e-46cc-9fd8-2098e135ef9a",
   "metadata": {},
   "source": [
    "#### Modelo de Disponibilidad"
   ]
  },
  {
   "cell_type": "code",
   "execution_count": 297,
   "id": "fabb0649-a489-4cba-b014-7c6f2807b057",
   "metadata": {},
   "outputs": [
    {
     "data": {
      "text/plain": [
       "Index(['listing_id', 'date', 'available', 'price_x', 'season', 'occupied',\n",
       "       'host_is_superhost', 'neighbourhood_cleansed', 'property_type',\n",
       "       'room_type', 'accommodates', 'bathrooms', 'bedrooms', 'beds',\n",
       "       'bed_type', 'amenities', 'price_y', 'guests_included', 'extra_people',\n",
       "       'minimum_nights', 'availability_365', 'number_of_reviews',\n",
       "       'review_scores_rating', 'reviews_per_month'],\n",
       "      dtype='object')"
      ]
     },
     "execution_count": 297,
     "metadata": {},
     "output_type": "execute_result"
    }
   ],
   "source": [
    "combined.columns"
   ]
  },
  {
   "cell_type": "code",
   "execution_count": 299,
   "id": "6f335d3e-6de7-486a-8758-00079e3e502c",
   "metadata": {},
   "outputs": [
    {
     "name": "stdout",
     "output_type": "stream",
     "text": [
      "              precision    recall  f1-score   support\n",
      "\n",
      "           0       1.00      1.00      1.00    133097\n",
      "           1       1.00      1.00      1.00    128608\n",
      "\n",
      "    accuracy                           1.00    261705\n",
      "   macro avg       1.00      1.00      1.00    261705\n",
      "weighted avg       1.00      1.00      1.00    261705\n",
      "\n"
     ]
    }
   ],
   "source": [
    "# Convertir las variables categóricas en variables dummy (por ejemplo, 'season')\n",
    "combined = pd.get_dummies(combined, columns=['season'], drop_first=True)\n",
    "\n",
    "# Definir características (X) y objetivo (y)\n",
    "X = combined[['price_x', 'accommodates', 'bathrooms', 'bedrooms', 'beds'] + [col for col in combined.columns if 'season_' in col]]\n",
    "y_availability = combined['available']\n",
    "\n",
    "# Dividir en datos de entrenamiento y prueba\n",
    "X_train, X_test, y_train, y_test = train_test_split(X, y_availability, test_size=0.2, random_state=42)\n",
    "\n",
    "# Entrenar el modelo de clasificación\n",
    "model_availability = RandomForestClassifier(n_estimators=100, random_state=42)\n",
    "model_availability.fit(X_train, y_train)\n",
    "\n",
    "# Hacer predicciones y evaluar el modelo\n",
    "y_pred_availability = model_availability.predict(X_test)\n",
    "print(classification_report(y_test, y_pred_availability))"
   ]
  },
  {
   "cell_type": "code",
   "execution_count": 300,
   "id": "1e5e3967-9b08-4533-988c-e3d01f58a699",
   "metadata": {},
   "outputs": [
    {
     "name": "stdout",
     "output_type": "stream",
     "text": [
      "Accuracy: 0.9992, disponibilidad de los listados de Airbnb\n"
     ]
    }
   ],
   "source": [
    "# Hacer predicciones en el conjunto de prueba\n",
    "y_pred = model_availability.predict(X_test)\n",
    "\n",
    "# Calcular el accuracy\n",
    "accuracy = accuracy_score(y_test, y_pred)\n",
    "\n",
    "# Imprimir el accuracy\n",
    "print(f'Accuracy: {accuracy:.4f}, disponibilidad de los listados de Airbnb') "
   ]
  },
  {
   "cell_type": "markdown",
   "id": "aaac0854-fc1d-48ad-83b5-4b47424c7a6b",
   "metadata": {},
   "source": [
    "#### Modelo Price\n"
   ]
  },
  {
   "cell_type": "code",
   "execution_count": 333,
   "id": "aa941e3e-7123-443e-84bb-e24d4202f024",
   "metadata": {},
   "outputs": [
    {
     "name": "stdout",
     "output_type": "stream",
     "text": [
      "Mean Squared Error: 0.5787895240824592\n"
     ]
    }
   ],
   "source": [
    "# Definir características (X) y objetivo (y)\n",
    "X = combined[['price_x', 'accommodates', 'bathrooms', 'bedrooms', 'beds'] + [col for col in combined.columns if 'season_' in col]]\n",
    "y = combined['price_x']  # Variable objetivo es el precio\n",
    "\n",
    "# Dividir los datos en entrenamiento y prueba\n",
    "X_train, X_test, y_train, y_test = train_test_split(X, y, test_size=0.2, random_state=42)\n",
    "\n",
    "# Entrenar el modelo de regresión\n",
    "model_price = RandomForestRegressor(n_estimators=100, random_state=42)\n",
    "model_price.fit(X_train, y_train)\n",
    "\n",
    "# Hacer predicciones\n",
    "y_pred_price = model_price.predict(X_test)\n",
    "\n",
    "# Evaluar el modelo\n",
    "mse = mean_squared_error(y_test, y_pred_price)\n",
    "print(f'Mean Squared Error: {mse}')"
   ]
  },
  {
   "cell_type": "code",
   "execution_count": null,
   "id": "cf09082c-1655-40d4-a857-f585a5d4837d",
   "metadata": {},
   "outputs": [],
   "source": []
  }
 ],
 "metadata": {
  "kernelspec": {
   "display_name": "Python 3 (ipykernel)",
   "language": "python",
   "name": "python3"
  },
  "language_info": {
   "codemirror_mode": {
    "name": "ipython",
    "version": 3
   },
   "file_extension": ".py",
   "mimetype": "text/x-python",
   "name": "python",
   "nbconvert_exporter": "python",
   "pygments_lexer": "ipython3",
   "version": "3.11.0"
  }
 },
 "nbformat": 4,
 "nbformat_minor": 5
}
